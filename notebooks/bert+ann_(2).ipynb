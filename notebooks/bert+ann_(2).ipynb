{
  "cells": [
    {
      "cell_type": "code",
      "execution_count": 37,
      "metadata": {
        "colab": {
          "base_uri": "https://localhost:8080/"
        },
        "id": "O3xgDkGf0YYr",
        "outputId": "569279fe-cc40-4372-9b13-ba8ff946cbb9"
      },
      "outputs": [
        {
          "output_type": "stream",
          "name": "stdout",
          "text": [
            "Looking in indexes: https://pypi.org/simple, https://us-python.pkg.dev/colab-wheels/public/simple/\n",
            "Requirement already satisfied: tensorflow-text in /usr/local/lib/python3.7/dist-packages (2.10.0)\n",
            "Requirement already satisfied: tensorflow<2.11,>=2.10.0 in /usr/local/lib/python3.7/dist-packages (from tensorflow-text) (2.10.0)\n",
            "Requirement already satisfied: tensorflow-hub>=0.8.0 in /usr/local/lib/python3.7/dist-packages (from tensorflow-text) (0.12.0)\n",
            "Requirement already satisfied: h5py>=2.9.0 in /usr/local/lib/python3.7/dist-packages (from tensorflow<2.11,>=2.10.0->tensorflow-text) (3.1.0)\n",
            "Requirement already satisfied: typing-extensions>=3.6.6 in /usr/local/lib/python3.7/dist-packages (from tensorflow<2.11,>=2.10.0->tensorflow-text) (4.1.1)\n",
            "Requirement already satisfied: opt-einsum>=2.3.2 in /usr/local/lib/python3.7/dist-packages (from tensorflow<2.11,>=2.10.0->tensorflow-text) (3.3.0)\n",
            "Requirement already satisfied: setuptools in /usr/local/lib/python3.7/dist-packages (from tensorflow<2.11,>=2.10.0->tensorflow-text) (57.4.0)\n",
            "Requirement already satisfied: grpcio<2.0,>=1.24.3 in /usr/local/lib/python3.7/dist-packages (from tensorflow<2.11,>=2.10.0->tensorflow-text) (1.50.0)\n",
            "Requirement already satisfied: google-pasta>=0.1.1 in /usr/local/lib/python3.7/dist-packages (from tensorflow<2.11,>=2.10.0->tensorflow-text) (0.2.0)\n",
            "Requirement already satisfied: absl-py>=1.0.0 in /usr/local/lib/python3.7/dist-packages (from tensorflow<2.11,>=2.10.0->tensorflow-text) (1.3.0)\n",
            "Requirement already satisfied: termcolor>=1.1.0 in /usr/local/lib/python3.7/dist-packages (from tensorflow<2.11,>=2.10.0->tensorflow-text) (2.0.1)\n",
            "Requirement already satisfied: tensorflow-estimator<2.11,>=2.10.0 in /usr/local/lib/python3.7/dist-packages (from tensorflow<2.11,>=2.10.0->tensorflow-text) (2.10.0)\n",
            "Requirement already satisfied: libclang>=13.0.0 in /usr/local/lib/python3.7/dist-packages (from tensorflow<2.11,>=2.10.0->tensorflow-text) (14.0.6)\n",
            "Requirement already satisfied: numpy>=1.20 in /usr/local/lib/python3.7/dist-packages (from tensorflow<2.11,>=2.10.0->tensorflow-text) (1.21.6)\n",
            "Requirement already satisfied: astunparse>=1.6.0 in /usr/local/lib/python3.7/dist-packages (from tensorflow<2.11,>=2.10.0->tensorflow-text) (1.6.3)\n",
            "Requirement already satisfied: keras<2.11,>=2.10.0 in /usr/local/lib/python3.7/dist-packages (from tensorflow<2.11,>=2.10.0->tensorflow-text) (2.10.0)\n",
            "Requirement already satisfied: six>=1.12.0 in /usr/local/lib/python3.7/dist-packages (from tensorflow<2.11,>=2.10.0->tensorflow-text) (1.15.0)\n",
            "Requirement already satisfied: keras-preprocessing>=1.1.1 in /usr/local/lib/python3.7/dist-packages (from tensorflow<2.11,>=2.10.0->tensorflow-text) (1.1.2)\n",
            "Requirement already satisfied: tensorboard<2.11,>=2.10 in /usr/local/lib/python3.7/dist-packages (from tensorflow<2.11,>=2.10.0->tensorflow-text) (2.10.1)\n",
            "Requirement already satisfied: packaging in /usr/local/lib/python3.7/dist-packages (from tensorflow<2.11,>=2.10.0->tensorflow-text) (21.3)\n",
            "Requirement already satisfied: wrapt>=1.11.0 in /usr/local/lib/python3.7/dist-packages (from tensorflow<2.11,>=2.10.0->tensorflow-text) (1.14.1)\n",
            "Requirement already satisfied: tensorflow-io-gcs-filesystem>=0.23.1 in /usr/local/lib/python3.7/dist-packages (from tensorflow<2.11,>=2.10.0->tensorflow-text) (0.27.0)\n",
            "Requirement already satisfied: gast<=0.4.0,>=0.2.1 in /usr/local/lib/python3.7/dist-packages (from tensorflow<2.11,>=2.10.0->tensorflow-text) (0.4.0)\n",
            "Requirement already satisfied: flatbuffers>=2.0 in /usr/local/lib/python3.7/dist-packages (from tensorflow<2.11,>=2.10.0->tensorflow-text) (22.10.26)\n",
            "Requirement already satisfied: protobuf<3.20,>=3.9.2 in /usr/local/lib/python3.7/dist-packages (from tensorflow<2.11,>=2.10.0->tensorflow-text) (3.17.3)\n",
            "Requirement already satisfied: wheel<1.0,>=0.23.0 in /usr/local/lib/python3.7/dist-packages (from astunparse>=1.6.0->tensorflow<2.11,>=2.10.0->tensorflow-text) (0.37.1)\n",
            "Requirement already satisfied: cached-property in /usr/local/lib/python3.7/dist-packages (from h5py>=2.9.0->tensorflow<2.11,>=2.10.0->tensorflow-text) (1.5.2)\n",
            "Requirement already satisfied: google-auth-oauthlib<0.5,>=0.4.1 in /usr/local/lib/python3.7/dist-packages (from tensorboard<2.11,>=2.10->tensorflow<2.11,>=2.10.0->tensorflow-text) (0.4.6)\n",
            "Requirement already satisfied: requests<3,>=2.21.0 in /usr/local/lib/python3.7/dist-packages (from tensorboard<2.11,>=2.10->tensorflow<2.11,>=2.10.0->tensorflow-text) (2.23.0)\n",
            "Requirement already satisfied: tensorboard-data-server<0.7.0,>=0.6.0 in /usr/local/lib/python3.7/dist-packages (from tensorboard<2.11,>=2.10->tensorflow<2.11,>=2.10.0->tensorflow-text) (0.6.1)\n",
            "Requirement already satisfied: tensorboard-plugin-wit>=1.6.0 in /usr/local/lib/python3.7/dist-packages (from tensorboard<2.11,>=2.10->tensorflow<2.11,>=2.10.0->tensorflow-text) (1.8.1)\n",
            "Requirement already satisfied: werkzeug>=1.0.1 in /usr/local/lib/python3.7/dist-packages (from tensorboard<2.11,>=2.10->tensorflow<2.11,>=2.10.0->tensorflow-text) (1.0.1)\n",
            "Requirement already satisfied: google-auth<3,>=1.6.3 in /usr/local/lib/python3.7/dist-packages (from tensorboard<2.11,>=2.10->tensorflow<2.11,>=2.10.0->tensorflow-text) (1.35.0)\n",
            "Requirement already satisfied: markdown>=2.6.8 in /usr/local/lib/python3.7/dist-packages (from tensorboard<2.11,>=2.10->tensorflow<2.11,>=2.10.0->tensorflow-text) (3.4.1)\n",
            "Requirement already satisfied: rsa<5,>=3.1.4 in /usr/local/lib/python3.7/dist-packages (from google-auth<3,>=1.6.3->tensorboard<2.11,>=2.10->tensorflow<2.11,>=2.10.0->tensorflow-text) (4.9)\n",
            "Requirement already satisfied: pyasn1-modules>=0.2.1 in /usr/local/lib/python3.7/dist-packages (from google-auth<3,>=1.6.3->tensorboard<2.11,>=2.10->tensorflow<2.11,>=2.10.0->tensorflow-text) (0.2.8)\n",
            "Requirement already satisfied: cachetools<5.0,>=2.0.0 in /usr/local/lib/python3.7/dist-packages (from google-auth<3,>=1.6.3->tensorboard<2.11,>=2.10->tensorflow<2.11,>=2.10.0->tensorflow-text) (4.2.4)\n",
            "Requirement already satisfied: requests-oauthlib>=0.7.0 in /usr/local/lib/python3.7/dist-packages (from google-auth-oauthlib<0.5,>=0.4.1->tensorboard<2.11,>=2.10->tensorflow<2.11,>=2.10.0->tensorflow-text) (1.3.1)\n",
            "Requirement already satisfied: importlib-metadata>=4.4 in /usr/local/lib/python3.7/dist-packages (from markdown>=2.6.8->tensorboard<2.11,>=2.10->tensorflow<2.11,>=2.10.0->tensorflow-text) (4.13.0)\n",
            "Requirement already satisfied: zipp>=0.5 in /usr/local/lib/python3.7/dist-packages (from importlib-metadata>=4.4->markdown>=2.6.8->tensorboard<2.11,>=2.10->tensorflow<2.11,>=2.10.0->tensorflow-text) (3.10.0)\n",
            "Requirement already satisfied: pyasn1<0.5.0,>=0.4.6 in /usr/local/lib/python3.7/dist-packages (from pyasn1-modules>=0.2.1->google-auth<3,>=1.6.3->tensorboard<2.11,>=2.10->tensorflow<2.11,>=2.10.0->tensorflow-text) (0.4.8)\n",
            "Requirement already satisfied: chardet<4,>=3.0.2 in /usr/local/lib/python3.7/dist-packages (from requests<3,>=2.21.0->tensorboard<2.11,>=2.10->tensorflow<2.11,>=2.10.0->tensorflow-text) (3.0.4)\n",
            "Requirement already satisfied: urllib3!=1.25.0,!=1.25.1,<1.26,>=1.21.1 in /usr/local/lib/python3.7/dist-packages (from requests<3,>=2.21.0->tensorboard<2.11,>=2.10->tensorflow<2.11,>=2.10.0->tensorflow-text) (1.24.3)\n",
            "Requirement already satisfied: idna<3,>=2.5 in /usr/local/lib/python3.7/dist-packages (from requests<3,>=2.21.0->tensorboard<2.11,>=2.10->tensorflow<2.11,>=2.10.0->tensorflow-text) (2.10)\n",
            "Requirement already satisfied: certifi>=2017.4.17 in /usr/local/lib/python3.7/dist-packages (from requests<3,>=2.21.0->tensorboard<2.11,>=2.10->tensorflow<2.11,>=2.10.0->tensorflow-text) (2022.9.24)\n",
            "Requirement already satisfied: oauthlib>=3.0.0 in /usr/local/lib/python3.7/dist-packages (from requests-oauthlib>=0.7.0->google-auth-oauthlib<0.5,>=0.4.1->tensorboard<2.11,>=2.10->tensorflow<2.11,>=2.10.0->tensorflow-text) (3.2.2)\n",
            "Requirement already satisfied: pyparsing!=3.0.5,>=2.0.2 in /usr/local/lib/python3.7/dist-packages (from packaging->tensorflow<2.11,>=2.10.0->tensorflow-text) (3.0.9)\n"
          ]
        }
      ],
      "source": [
        "!pip install tensorflow-text\n"
      ]
    },
    {
      "cell_type": "code",
      "execution_count": 38,
      "metadata": {
        "id": "2zNzQQ9OzNVA"
      },
      "outputs": [],
      "source": [
        "import imblearn\n",
        "import numpy as np\n",
        "import pandas as pd\n",
        "import nltk\n",
        "import re\n",
        "from nltk.stem import PorterStemmer\n",
        "from nltk.stem import WordNetLemmatizer\n",
        "from nltk.corpus import stopwords\n",
        "import tensorflow_hub as hub\n",
        "import tensorflow_text as text"
      ]
    },
    {
      "cell_type": "code",
      "execution_count": 39,
      "metadata": {
        "colab": {
          "base_uri": "https://localhost:8080/"
        },
        "id": "KONlCG0N0vAM",
        "outputId": "c61e7651-9113-461f-91ba-3c5ff4d6ab40"
      },
      "outputs": [
        {
          "output_type": "stream",
          "name": "stderr",
          "text": [
            "[nltk_data] Downloading collection 'popular'\n",
            "[nltk_data]    | \n",
            "[nltk_data]    | Downloading package cmudict to /root/nltk_data...\n",
            "[nltk_data]    |   Package cmudict is already up-to-date!\n",
            "[nltk_data]    | Downloading package gazetteers to /root/nltk_data...\n",
            "[nltk_data]    |   Package gazetteers is already up-to-date!\n",
            "[nltk_data]    | Downloading package genesis to /root/nltk_data...\n",
            "[nltk_data]    |   Package genesis is already up-to-date!\n",
            "[nltk_data]    | Downloading package gutenberg to /root/nltk_data...\n",
            "[nltk_data]    |   Package gutenberg is already up-to-date!\n",
            "[nltk_data]    | Downloading package inaugural to /root/nltk_data...\n",
            "[nltk_data]    |   Package inaugural is already up-to-date!\n",
            "[nltk_data]    | Downloading package movie_reviews to\n",
            "[nltk_data]    |     /root/nltk_data...\n",
            "[nltk_data]    |   Package movie_reviews is already up-to-date!\n",
            "[nltk_data]    | Downloading package names to /root/nltk_data...\n",
            "[nltk_data]    |   Package names is already up-to-date!\n",
            "[nltk_data]    | Downloading package shakespeare to /root/nltk_data...\n",
            "[nltk_data]    |   Package shakespeare is already up-to-date!\n",
            "[nltk_data]    | Downloading package stopwords to /root/nltk_data...\n",
            "[nltk_data]    |   Package stopwords is already up-to-date!\n",
            "[nltk_data]    | Downloading package treebank to /root/nltk_data...\n",
            "[nltk_data]    |   Package treebank is already up-to-date!\n",
            "[nltk_data]    | Downloading package twitter_samples to\n",
            "[nltk_data]    |     /root/nltk_data...\n",
            "[nltk_data]    |   Package twitter_samples is already up-to-date!\n",
            "[nltk_data]    | Downloading package omw to /root/nltk_data...\n",
            "[nltk_data]    |   Package omw is already up-to-date!\n",
            "[nltk_data]    | Downloading package omw-1.4 to /root/nltk_data...\n",
            "[nltk_data]    |   Package omw-1.4 is already up-to-date!\n",
            "[nltk_data]    | Downloading package wordnet to /root/nltk_data...\n",
            "[nltk_data]    |   Package wordnet is already up-to-date!\n",
            "[nltk_data]    | Downloading package wordnet2021 to /root/nltk_data...\n",
            "[nltk_data]    |   Package wordnet2021 is already up-to-date!\n",
            "[nltk_data]    | Downloading package wordnet31 to /root/nltk_data...\n",
            "[nltk_data]    |   Package wordnet31 is already up-to-date!\n",
            "[nltk_data]    | Downloading package wordnet_ic to /root/nltk_data...\n",
            "[nltk_data]    |   Package wordnet_ic is already up-to-date!\n",
            "[nltk_data]    | Downloading package words to /root/nltk_data...\n",
            "[nltk_data]    |   Package words is already up-to-date!\n",
            "[nltk_data]    | Downloading package maxent_ne_chunker to\n",
            "[nltk_data]    |     /root/nltk_data...\n",
            "[nltk_data]    |   Package maxent_ne_chunker is already up-to-date!\n",
            "[nltk_data]    | Downloading package punkt to /root/nltk_data...\n",
            "[nltk_data]    |   Package punkt is already up-to-date!\n",
            "[nltk_data]    | Downloading package snowball_data to\n",
            "[nltk_data]    |     /root/nltk_data...\n",
            "[nltk_data]    |   Package snowball_data is already up-to-date!\n",
            "[nltk_data]    | Downloading package averaged_perceptron_tagger to\n",
            "[nltk_data]    |     /root/nltk_data...\n",
            "[nltk_data]    |   Package averaged_perceptron_tagger is already up-\n",
            "[nltk_data]    |       to-date!\n",
            "[nltk_data]    | \n",
            "[nltk_data]  Done downloading collection popular\n"
          ]
        },
        {
          "output_type": "execute_result",
          "data": {
            "text/plain": [
              "True"
            ]
          },
          "metadata": {},
          "execution_count": 39
        }
      ],
      "source": [
        "nltk.download(\"popular\")"
      ]
    },
    {
      "cell_type": "code",
      "execution_count": 40,
      "metadata": {
        "id": "YHE-wjPyzdyK"
      },
      "outputs": [],
      "source": [
        "msg = pd.read_csv('train_E6oV3lV.csv')"
      ]
    },
    {
      "cell_type": "code",
      "execution_count": 41,
      "metadata": {
        "id": "2Hsdf3hp-fT7"
      },
      "outputs": [],
      "source": [
        "df_test0=msg[msg[\"label\"]==0]\n",
        "df_test1=msg[msg[\"label\"]==1]"
      ]
    },
    {
      "cell_type": "code",
      "execution_count": 42,
      "metadata": {
        "id": "7kLJ1AZR-fT8"
      },
      "outputs": [],
      "source": [
        "df_test0=df_test0.iloc[0:500,]\n",
        "df_test1=df_test1.iloc[0:500,]"
      ]
    },
    {
      "cell_type": "code",
      "execution_count": 43,
      "metadata": {
        "id": "0RtYq3C9-fT8"
      },
      "outputs": [],
      "source": [
        "msg=msg.drop(df_test0.index)\n",
        "msg=msg.drop(df_test1.index)"
      ]
    },
    {
      "cell_type": "code",
      "execution_count": 44,
      "metadata": {
        "id": "avQukRa6-fT8"
      },
      "outputs": [],
      "source": [
        "test=pd.concat([df_test0,df_test1])"
      ]
    },
    {
      "cell_type": "code",
      "execution_count": 45,
      "metadata": {
        "id": "Y_f-1o3Y-fT9"
      },
      "outputs": [],
      "source": [
        "msg.reset_index(drop=True,inplace=True)"
      ]
    },
    {
      "cell_type": "code",
      "execution_count": 46,
      "metadata": {
        "id": "S8DkVaxwzvqC"
      },
      "outputs": [],
      "source": [
        "lemmatizer= WordNetLemmatizer()"
      ]
    },
    {
      "cell_type": "code",
      "execution_count": 47,
      "metadata": {
        "id": "oCnpCbSbz68J"
      },
      "outputs": [],
      "source": [
        "corpus1=[]\n",
        "for i in range(len(msg)):\n",
        "    review=re.sub('[^a-zA-z]', ' ',msg['tweet'][i])\n",
        "    review=review.lower()\n",
        "    review=review.split()\n",
        "    review=[lemmatizer.lemmatize(word) for word in review if not word in set(stopwords.words('english'))]\n",
        "    review=' '.join(review)\n",
        "    corpus1.append(review)"
      ]
    },
    {
      "cell_type": "code",
      "source": [
        "test.reset_index(drop=True,inplace=True)"
      ],
      "metadata": {
        "id": "DQvUfO4z_44U"
      },
      "execution_count": 48,
      "outputs": []
    },
    {
      "cell_type": "code",
      "source": [
        "test"
      ],
      "metadata": {
        "colab": {
          "base_uri": "https://localhost:8080/",
          "height": 424
        },
        "id": "Sl-H6rMQAEo5",
        "outputId": "8f9087c2-f959-4f01-c42c-8015d05cbc3c"
      },
      "execution_count": 49,
      "outputs": [
        {
          "output_type": "execute_result",
          "data": {
            "text/plain": [
              "       id  label                                              tweet\n",
              "0       1      0   @user when a father is dysfunctional and is s...\n",
              "1       2      0  @user @user thanks for #lyft credit i can't us...\n",
              "2       3      0                                bihday your majesty\n",
              "3       4      0  #model   i love u take with u all the time in ...\n",
              "4       5      0             factsguide: society now    #motivation\n",
              "..    ...    ...                                                ...\n",
              "995  7146      1  @user ð´ \"the deafening silence from anti-ra...\n",
              "996  7157      1  @user  tonight in #cologne. proudly presented ...\n",
              "997  7168      1  this! #cambersands deaths blamed on victims' \"...\n",
              "998  7173      1  @user more #marxist evil jew #propoganda! why ...\n",
              "999  7178      1  @user #allahsoil like all religions, islam is ...\n",
              "\n",
              "[1000 rows x 3 columns]"
            ],
            "text/html": [
              "\n",
              "  <div id=\"df-c514bbc8-3414-4bc2-b022-31e21fe029eb\">\n",
              "    <div class=\"colab-df-container\">\n",
              "      <div>\n",
              "<style scoped>\n",
              "    .dataframe tbody tr th:only-of-type {\n",
              "        vertical-align: middle;\n",
              "    }\n",
              "\n",
              "    .dataframe tbody tr th {\n",
              "        vertical-align: top;\n",
              "    }\n",
              "\n",
              "    .dataframe thead th {\n",
              "        text-align: right;\n",
              "    }\n",
              "</style>\n",
              "<table border=\"1\" class=\"dataframe\">\n",
              "  <thead>\n",
              "    <tr style=\"text-align: right;\">\n",
              "      <th></th>\n",
              "      <th>id</th>\n",
              "      <th>label</th>\n",
              "      <th>tweet</th>\n",
              "    </tr>\n",
              "  </thead>\n",
              "  <tbody>\n",
              "    <tr>\n",
              "      <th>0</th>\n",
              "      <td>1</td>\n",
              "      <td>0</td>\n",
              "      <td>@user when a father is dysfunctional and is s...</td>\n",
              "    </tr>\n",
              "    <tr>\n",
              "      <th>1</th>\n",
              "      <td>2</td>\n",
              "      <td>0</td>\n",
              "      <td>@user @user thanks for #lyft credit i can't us...</td>\n",
              "    </tr>\n",
              "    <tr>\n",
              "      <th>2</th>\n",
              "      <td>3</td>\n",
              "      <td>0</td>\n",
              "      <td>bihday your majesty</td>\n",
              "    </tr>\n",
              "    <tr>\n",
              "      <th>3</th>\n",
              "      <td>4</td>\n",
              "      <td>0</td>\n",
              "      <td>#model   i love u take with u all the time in ...</td>\n",
              "    </tr>\n",
              "    <tr>\n",
              "      <th>4</th>\n",
              "      <td>5</td>\n",
              "      <td>0</td>\n",
              "      <td>factsguide: society now    #motivation</td>\n",
              "    </tr>\n",
              "    <tr>\n",
              "      <th>...</th>\n",
              "      <td>...</td>\n",
              "      <td>...</td>\n",
              "      <td>...</td>\n",
              "    </tr>\n",
              "    <tr>\n",
              "      <th>995</th>\n",
              "      <td>7146</td>\n",
              "      <td>1</td>\n",
              "      <td>@user ð´ \"the deafening silence from anti-ra...</td>\n",
              "    </tr>\n",
              "    <tr>\n",
              "      <th>996</th>\n",
              "      <td>7157</td>\n",
              "      <td>1</td>\n",
              "      <td>@user  tonight in #cologne. proudly presented ...</td>\n",
              "    </tr>\n",
              "    <tr>\n",
              "      <th>997</th>\n",
              "      <td>7168</td>\n",
              "      <td>1</td>\n",
              "      <td>this! #cambersands deaths blamed on victims' \"...</td>\n",
              "    </tr>\n",
              "    <tr>\n",
              "      <th>998</th>\n",
              "      <td>7173</td>\n",
              "      <td>1</td>\n",
              "      <td>@user more #marxist evil jew #propoganda! why ...</td>\n",
              "    </tr>\n",
              "    <tr>\n",
              "      <th>999</th>\n",
              "      <td>7178</td>\n",
              "      <td>1</td>\n",
              "      <td>@user #allahsoil like all religions, islam is ...</td>\n",
              "    </tr>\n",
              "  </tbody>\n",
              "</table>\n",
              "<p>1000 rows × 3 columns</p>\n",
              "</div>\n",
              "      <button class=\"colab-df-convert\" onclick=\"convertToInteractive('df-c514bbc8-3414-4bc2-b022-31e21fe029eb')\"\n",
              "              title=\"Convert this dataframe to an interactive table.\"\n",
              "              style=\"display:none;\">\n",
              "        \n",
              "  <svg xmlns=\"http://www.w3.org/2000/svg\" height=\"24px\"viewBox=\"0 0 24 24\"\n",
              "       width=\"24px\">\n",
              "    <path d=\"M0 0h24v24H0V0z\" fill=\"none\"/>\n",
              "    <path d=\"M18.56 5.44l.94 2.06.94-2.06 2.06-.94-2.06-.94-.94-2.06-.94 2.06-2.06.94zm-11 1L8.5 8.5l.94-2.06 2.06-.94-2.06-.94L8.5 2.5l-.94 2.06-2.06.94zm10 10l.94 2.06.94-2.06 2.06-.94-2.06-.94-.94-2.06-.94 2.06-2.06.94z\"/><path d=\"M17.41 7.96l-1.37-1.37c-.4-.4-.92-.59-1.43-.59-.52 0-1.04.2-1.43.59L10.3 9.45l-7.72 7.72c-.78.78-.78 2.05 0 2.83L4 21.41c.39.39.9.59 1.41.59.51 0 1.02-.2 1.41-.59l7.78-7.78 2.81-2.81c.8-.78.8-2.07 0-2.86zM5.41 20L4 18.59l7.72-7.72 1.47 1.35L5.41 20z\"/>\n",
              "  </svg>\n",
              "      </button>\n",
              "      \n",
              "  <style>\n",
              "    .colab-df-container {\n",
              "      display:flex;\n",
              "      flex-wrap:wrap;\n",
              "      gap: 12px;\n",
              "    }\n",
              "\n",
              "    .colab-df-convert {\n",
              "      background-color: #E8F0FE;\n",
              "      border: none;\n",
              "      border-radius: 50%;\n",
              "      cursor: pointer;\n",
              "      display: none;\n",
              "      fill: #1967D2;\n",
              "      height: 32px;\n",
              "      padding: 0 0 0 0;\n",
              "      width: 32px;\n",
              "    }\n",
              "\n",
              "    .colab-df-convert:hover {\n",
              "      background-color: #E2EBFA;\n",
              "      box-shadow: 0px 1px 2px rgba(60, 64, 67, 0.3), 0px 1px 3px 1px rgba(60, 64, 67, 0.15);\n",
              "      fill: #174EA6;\n",
              "    }\n",
              "\n",
              "    [theme=dark] .colab-df-convert {\n",
              "      background-color: #3B4455;\n",
              "      fill: #D2E3FC;\n",
              "    }\n",
              "\n",
              "    [theme=dark] .colab-df-convert:hover {\n",
              "      background-color: #434B5C;\n",
              "      box-shadow: 0px 1px 3px 1px rgba(0, 0, 0, 0.15);\n",
              "      filter: drop-shadow(0px 1px 2px rgba(0, 0, 0, 0.3));\n",
              "      fill: #FFFFFF;\n",
              "    }\n",
              "  </style>\n",
              "\n",
              "      <script>\n",
              "        const buttonEl =\n",
              "          document.querySelector('#df-c514bbc8-3414-4bc2-b022-31e21fe029eb button.colab-df-convert');\n",
              "        buttonEl.style.display =\n",
              "          google.colab.kernel.accessAllowed ? 'block' : 'none';\n",
              "\n",
              "        async function convertToInteractive(key) {\n",
              "          const element = document.querySelector('#df-c514bbc8-3414-4bc2-b022-31e21fe029eb');\n",
              "          const dataTable =\n",
              "            await google.colab.kernel.invokeFunction('convertToInteractive',\n",
              "                                                     [key], {});\n",
              "          if (!dataTable) return;\n",
              "\n",
              "          const docLinkHtml = 'Like what you see? Visit the ' +\n",
              "            '<a target=\"_blank\" href=https://colab.research.google.com/notebooks/data_table.ipynb>data table notebook</a>'\n",
              "            + ' to learn more about interactive tables.';\n",
              "          element.innerHTML = '';\n",
              "          dataTable['output_type'] = 'display_data';\n",
              "          await google.colab.output.renderOutput(dataTable, element);\n",
              "          const docLink = document.createElement('div');\n",
              "          docLink.innerHTML = docLinkHtml;\n",
              "          element.appendChild(docLink);\n",
              "        }\n",
              "      </script>\n",
              "    </div>\n",
              "  </div>\n",
              "  "
            ]
          },
          "metadata": {},
          "execution_count": 49
        }
      ]
    },
    {
      "cell_type": "code",
      "execution_count": 50,
      "metadata": {
        "id": "wdrf_C2C-fT-"
      },
      "outputs": [],
      "source": [
        "corpus2=[]\n",
        "for i in range(len(test)):\n",
        "    review=re.sub('[^a-zA-z]', ' ',test['tweet'][i])\n",
        "    review=review.lower()\n",
        "    review=review.split()\n",
        "    review=[lemmatizer.lemmatize(word) for word in review if not word in set(stopwords.words('english'))]\n",
        "    review=' '.join(review)\n",
        "    corpus2.append(review)"
      ]
    },
    {
      "cell_type": "code",
      "execution_count": 51,
      "metadata": {
        "colab": {
          "base_uri": "https://localhost:8080/"
        },
        "id": "UpYYkPe4_P6n",
        "outputId": "4c9078c2-38e8-4356-9a99-f60e34d70aea"
      },
      "outputs": [
        {
          "output_type": "stream",
          "name": "stdout",
          "text": [
            "Looking in indexes: https://pypi.org/simple, https://us-python.pkg.dev/colab-wheels/public/simple/\n",
            "Requirement already satisfied: sentence-transformers in /usr/local/lib/python3.7/dist-packages (2.2.2)\n",
            "Requirement already satisfied: torchvision in /usr/local/lib/python3.7/dist-packages (from sentence-transformers) (0.13.1+cu113)\n",
            "Requirement already satisfied: tqdm in /usr/local/lib/python3.7/dist-packages (from sentence-transformers) (4.64.1)\n",
            "Requirement already satisfied: nltk in /usr/local/lib/python3.7/dist-packages (from sentence-transformers) (3.7)\n",
            "Requirement already satisfied: huggingface-hub>=0.4.0 in /usr/local/lib/python3.7/dist-packages (from sentence-transformers) (0.10.1)\n",
            "Requirement already satisfied: scikit-learn in /usr/local/lib/python3.7/dist-packages (from sentence-transformers) (1.0.2)\n",
            "Requirement already satisfied: torch>=1.6.0 in /usr/local/lib/python3.7/dist-packages (from sentence-transformers) (1.12.1+cu113)\n",
            "Requirement already satisfied: sentencepiece in /usr/local/lib/python3.7/dist-packages (from sentence-transformers) (0.1.97)\n",
            "Requirement already satisfied: scipy in /usr/local/lib/python3.7/dist-packages (from sentence-transformers) (1.7.3)\n",
            "Requirement already satisfied: transformers<5.0.0,>=4.6.0 in /usr/local/lib/python3.7/dist-packages (from sentence-transformers) (4.24.0)\n",
            "Requirement already satisfied: numpy in /usr/local/lib/python3.7/dist-packages (from sentence-transformers) (1.21.6)\n",
            "Requirement already satisfied: pyyaml>=5.1 in /usr/local/lib/python3.7/dist-packages (from huggingface-hub>=0.4.0->sentence-transformers) (6.0)\n",
            "Requirement already satisfied: packaging>=20.9 in /usr/local/lib/python3.7/dist-packages (from huggingface-hub>=0.4.0->sentence-transformers) (21.3)\n",
            "Requirement already satisfied: typing-extensions>=3.7.4.3 in /usr/local/lib/python3.7/dist-packages (from huggingface-hub>=0.4.0->sentence-transformers) (4.1.1)\n",
            "Requirement already satisfied: filelock in /usr/local/lib/python3.7/dist-packages (from huggingface-hub>=0.4.0->sentence-transformers) (3.8.0)\n",
            "Requirement already satisfied: requests in /usr/local/lib/python3.7/dist-packages (from huggingface-hub>=0.4.0->sentence-transformers) (2.23.0)\n",
            "Requirement already satisfied: importlib-metadata in /usr/local/lib/python3.7/dist-packages (from huggingface-hub>=0.4.0->sentence-transformers) (4.13.0)\n",
            "Requirement already satisfied: pyparsing!=3.0.5,>=2.0.2 in /usr/local/lib/python3.7/dist-packages (from packaging>=20.9->huggingface-hub>=0.4.0->sentence-transformers) (3.0.9)\n",
            "Requirement already satisfied: regex!=2019.12.17 in /usr/local/lib/python3.7/dist-packages (from transformers<5.0.0,>=4.6.0->sentence-transformers) (2022.6.2)\n",
            "Requirement already satisfied: tokenizers!=0.11.3,<0.14,>=0.11.1 in /usr/local/lib/python3.7/dist-packages (from transformers<5.0.0,>=4.6.0->sentence-transformers) (0.13.1)\n",
            "Requirement already satisfied: zipp>=0.5 in /usr/local/lib/python3.7/dist-packages (from importlib-metadata->huggingface-hub>=0.4.0->sentence-transformers) (3.10.0)\n",
            "Requirement already satisfied: joblib in /usr/local/lib/python3.7/dist-packages (from nltk->sentence-transformers) (1.2.0)\n",
            "Requirement already satisfied: click in /usr/local/lib/python3.7/dist-packages (from nltk->sentence-transformers) (7.1.2)\n",
            "Requirement already satisfied: idna<3,>=2.5 in /usr/local/lib/python3.7/dist-packages (from requests->huggingface-hub>=0.4.0->sentence-transformers) (2.10)\n",
            "Requirement already satisfied: certifi>=2017.4.17 in /usr/local/lib/python3.7/dist-packages (from requests->huggingface-hub>=0.4.0->sentence-transformers) (2022.9.24)\n",
            "Requirement already satisfied: chardet<4,>=3.0.2 in /usr/local/lib/python3.7/dist-packages (from requests->huggingface-hub>=0.4.0->sentence-transformers) (3.0.4)\n",
            "Requirement already satisfied: urllib3!=1.25.0,!=1.25.1,<1.26,>=1.21.1 in /usr/local/lib/python3.7/dist-packages (from requests->huggingface-hub>=0.4.0->sentence-transformers) (1.24.3)\n",
            "Requirement already satisfied: threadpoolctl>=2.0.0 in /usr/local/lib/python3.7/dist-packages (from scikit-learn->sentence-transformers) (3.1.0)\n",
            "Requirement already satisfied: pillow!=8.3.*,>=5.3.0 in /usr/local/lib/python3.7/dist-packages (from torchvision->sentence-transformers) (7.1.2)\n"
          ]
        }
      ],
      "source": [
        "!pip install sentence-transformers\n",
        "from sentence_transformers import SentenceTransformer\n",
        "sbert_model = SentenceTransformer('bert-base-nli-mean-tokens')"
      ]
    },
    {
      "cell_type": "code",
      "execution_count": 52,
      "metadata": {
        "id": "XdEQQcRiLVLt"
      },
      "outputs": [],
      "source": [
        "texttransform=sbert_model.encode(corpus1)\n",
        "testtransform=sbert_model.encode(corpus2)"
      ]
    },
    {
      "cell_type": "code",
      "execution_count": 53,
      "metadata": {
        "colab": {
          "base_uri": "https://localhost:8080/"
        },
        "id": "RuIDfCNsMN_e",
        "outputId": "59415e89-9f49-4638-adf3-17b78993a8a1"
      },
      "outputs": [
        {
          "output_type": "execute_result",
          "data": {
            "text/plain": [
              "(array([[-0.05033198,  0.8826448 ,  1.2239057 , ...,  0.4210539 ,\n",
              "          0.4105692 ,  0.09700081],\n",
              "        [ 0.28021646,  0.8486005 ,  1.3231066 , ...,  0.12105219,\n",
              "         -0.04532439, -0.30801377],\n",
              "        [ 0.35104585,  0.13897336,  2.109371  , ..., -0.5717936 ,\n",
              "         -0.15150763, -0.5701781 ],\n",
              "        ...,\n",
              "        [-0.30673882,  0.05738524,  0.8658512 , ...,  0.85494846,\n",
              "          0.3402193 , -0.22528501],\n",
              "        [ 0.83937943,  1.5611221 ,  0.46583176, ..., -0.60814464,\n",
              "          0.03173679,  0.01085686],\n",
              "        [-0.02149194,  0.36523446,  2.6983974 , ...,  0.3282579 ,\n",
              "         -0.7356926 ,  0.13699558]], dtype=float32), (30962, 768))"
            ]
          },
          "metadata": {},
          "execution_count": 53
        }
      ],
      "source": [
        "texttransform,texttransform.shape"
      ]
    },
    {
      "cell_type": "code",
      "execution_count": 54,
      "metadata": {
        "id": "qYqYzGenNBO0"
      },
      "outputs": [],
      "source": [
        "import imblearn\n",
        "from imblearn.over_sampling import SMOTE\n",
        "sm = SMOTE(sampling_strategy='minority')\n",
        "X, y = sm.fit_resample(texttransform, msg['label'])"
      ]
    },
    {
      "cell_type": "code",
      "execution_count": 55,
      "metadata": {
        "colab": {
          "base_uri": "https://localhost:8080/"
        },
        "id": "hVb8lNuDOVYt",
        "outputId": "9c783090-702a-44eb-925a-16b4634ad6ec"
      },
      "outputs": [
        {
          "output_type": "execute_result",
          "data": {
            "text/plain": [
              "((58440, 768), (58440,))"
            ]
          },
          "metadata": {},
          "execution_count": 55
        }
      ],
      "source": [
        "X.shape,y.shape"
      ]
    },
    {
      "cell_type": "code",
      "execution_count": 56,
      "metadata": {
        "colab": {
          "base_uri": "https://localhost:8080/"
        },
        "id": "ZdBVI2pOOlHW",
        "outputId": "e0f50c9a-1ae2-4869-d0d9-ae4dfb509807"
      },
      "outputs": [
        {
          "output_type": "execute_result",
          "data": {
            "text/plain": [
              "0    29220\n",
              "1    29220\n",
              "Name: label, dtype: int64"
            ]
          },
          "metadata": {},
          "execution_count": 56
        }
      ],
      "source": [
        "y.value_counts()"
      ]
    },
    {
      "cell_type": "code",
      "execution_count": 57,
      "metadata": {
        "colab": {
          "base_uri": "https://localhost:8080/"
        },
        "id": "o9zBYcMBOtBA",
        "outputId": "7e42e179-26db-48af-fa33-5340d6d135b7"
      },
      "outputs": [
        {
          "output_type": "stream",
          "name": "stdout",
          "text": [
            "Epoch 1/10\n",
            "5844/5844 [==============================] - 18s 3ms/step - loss: 0.2993 - accuracy: 0.8761\n",
            "Epoch 2/10\n",
            "5844/5844 [==============================] - 21s 4ms/step - loss: 0.2461 - accuracy: 0.9016\n",
            "Epoch 3/10\n",
            "5844/5844 [==============================] - 14s 2ms/step - loss: 0.2248 - accuracy: 0.9099\n",
            "Epoch 4/10\n",
            "5844/5844 [==============================] - 16s 3ms/step - loss: 0.2053 - accuracy: 0.9180\n",
            "Epoch 5/10\n",
            "5844/5844 [==============================] - 14s 2ms/step - loss: 0.1885 - accuracy: 0.9251\n",
            "Epoch 6/10\n",
            "5844/5844 [==============================] - 14s 2ms/step - loss: 0.1730 - accuracy: 0.9336\n",
            "Epoch 7/10\n",
            "5844/5844 [==============================] - 15s 3ms/step - loss: 0.1629 - accuracy: 0.9382\n",
            "Epoch 8/10\n",
            "5844/5844 [==============================] - 14s 2ms/step - loss: 0.1527 - accuracy: 0.9424\n",
            "Epoch 9/10\n",
            "5844/5844 [==============================] - 14s 2ms/step - loss: 0.1455 - accuracy: 0.9459\n",
            "Epoch 10/10\n",
            "5844/5844 [==============================] - 14s 2ms/step - loss: 0.1383 - accuracy: 0.9487\n"
          ]
        },
        {
          "output_type": "execute_result",
          "data": {
            "text/plain": [
              "<keras.callbacks.History at 0x7f8896c11a10>"
            ]
          },
          "metadata": {},
          "execution_count": 57
        }
      ],
      "source": [
        "from keras.models import Sequential\n",
        "from keras.layers import Dense\n",
        "classifier=Sequential()\n",
        "classifier.add(Dense(units = 6, kernel_initializer = 'uniform', activation = 'relu', input_dim = 768))\n",
        "# Adding the second hidden layer\n",
        "classifier.add(Dense(units = 6, kernel_initializer = 'uniform', activation = 'relu'))\n",
        "# Adding the output layer\n",
        "classifier.add(Dense(units = 1, kernel_initializer = 'uniform', activation = 'sigmoid'))\n",
        "\n",
        "# Compiling the ANN | means applying SGD on the whole ANN\n",
        "classifier.compile(optimizer = 'adam', loss = 'binary_crossentropy', metrics = ['accuracy'])\n",
        "\n",
        "# Fitting the ANN to the Training set\n",
        "classifier.fit(X, y, batch_size = 10, epochs = 10)"
      ]
    },
    {
      "cell_type": "code",
      "source": [],
      "metadata": {
        "id": "4DN5dIo8EUvL"
      },
      "execution_count": null,
      "outputs": []
    },
    {
      "cell_type": "code",
      "execution_count": 58,
      "metadata": {
        "colab": {
          "base_uri": "https://localhost:8080/"
        },
        "id": "gqkLOzrKOzkM",
        "outputId": "0b160012-0492-46b8-df99-d83a9c4736f1"
      },
      "outputs": [
        {
          "output_type": "stream",
          "name": "stdout",
          "text": [
            "32/32 [==============================] - 0s 1ms/step\n",
            "              precision    recall  f1-score   support\n",
            "\n",
            "           0       0.80      0.94      0.87       500\n",
            "           1       0.93      0.77      0.84       500\n",
            "\n",
            "    accuracy                           0.86      1000\n",
            "   macro avg       0.87      0.86      0.85      1000\n",
            "weighted avg       0.87      0.86      0.85      1000\n",
            "\n"
          ]
        }
      ],
      "source": [
        "y_pred = classifier.predict(testtransform)\n",
        "y_pred = (y_pred > 0.5)\n",
        "from sklearn.metrics import classification_report\n",
        "print(classification_report(test[\"label\"],y_pred))"
      ]
    },
    {
      "cell_type": "code",
      "execution_count": 59,
      "metadata": {
        "colab": {
          "base_uri": "https://localhost:8080/",
          "height": 312
        },
        "id": "9LRQQcwyRDV2",
        "outputId": "08e1c77e-93d6-4009-a0de-d04a61364812"
      },
      "outputs": [
        {
          "output_type": "execute_result",
          "data": {
            "text/plain": [
              "Text(0.5, 15.0, 'Predicted label')"
            ]
          },
          "metadata": {},
          "execution_count": 59
        },
        {
          "output_type": "display_data",
          "data": {
            "text/plain": [
              "<Figure size 432x288 with 2 Axes>"
            ],
            "image/png": "[encoded data removed]"
          },
          "metadata": {
            "needs_background": "light"
          }
        }
      ],
      "source": [
        "from sklearn.metrics import confusion_matrix\n",
        "cm = confusion_matrix(test['label'], y_pred)\n",
        "import seaborn as sns\n",
        "import matplotlib.pyplot as plt\n",
        "p = sns.heatmap(pd.DataFrame(cm), annot=True, cmap=\"YlGnBu\" ,fmt='g')\n",
        "plt.title('Confusion matrix', y=1.1)\n",
        "plt.ylabel('Actual label')\n",
        "plt.xlabel('Predicted label')"
      ]
    },
    {
      "cell_type": "code",
      "execution_count": 60,
      "metadata": {
        "colab": {
          "base_uri": "https://localhost:8080/"
        },
        "id": "naweMZXHaA7L",
        "outputId": "3a4fa238-470f-4283-97ab-0af364ede224"
      },
      "outputs": [
        {
          "output_type": "execute_result",
          "data": {
            "text/plain": [
              "array([[-1.95582733e-02,  3.87708783e-01,  5.96862435e-01,\n",
              "         1.88484237e-01, -6.80646062e-01,  5.63389778e-01,\n",
              "         1.76320505e+00,  4.50257123e-01,  3.87949646e-01,\n",
              "        -1.95864066e-01, -1.01950657e+00,  1.51478052e-01,\n",
              "        -1.08213611e-02,  6.49362504e-01,  7.61915743e-01,\n",
              "         6.64016247e-01, -2.98036128e-01, -8.43151450e-01,\n",
              "        -3.82940114e-01, -3.78985107e-01, -1.25275373e-01,\n",
              "        -5.50395727e-01,  6.14823759e-01, -6.99521303e-01,\n",
              "         1.77259907e-01,  2.86527485e-01,  2.98134238e-01,\n",
              "        -6.64667308e-01, -1.56549084e+00,  2.10749000e-01,\n",
              "         1.65383473e-01, -3.86435002e-01,  5.00046968e-01,\n",
              "         4.23112363e-02, -3.96376044e-01,  1.19149303e+00,\n",
              "         4.37578976e-01, -7.10742950e-01,  2.14009181e-01,\n",
              "         1.17049448e-01,  1.46508288e+00,  3.62656295e-01,\n",
              "         2.53582317e-02,  3.67401242e-01, -2.51726154e-02,\n",
              "        -1.92139521e-01,  8.74193728e-01,  7.72967860e-02,\n",
              "         6.77564859e-01, -3.44571322e-01, -3.82056832e-02,\n",
              "         5.39391160e-01,  8.91465724e-01,  7.14902937e-01,\n",
              "        -5.60445249e-01, -4.37923223e-01,  3.68389577e-01,\n",
              "        -2.96976089e-01,  3.75388503e-01, -5.68684936e-01,\n",
              "        -2.20264256e-01,  4.32413697e-01,  6.09620586e-02,\n",
              "         3.47757220e-01, -6.72355592e-01,  9.13882434e-01,\n",
              "        -5.44734709e-02,  2.32045636e-01, -1.33774137e+00,\n",
              "        -1.76834360e-01,  3.72586757e-01, -1.21649849e+00,\n",
              "        -2.54754752e-01, -8.55027363e-02, -1.11172028e-01,\n",
              "        -7.03990757e-01, -3.33173363e-03,  3.89454246e-01,\n",
              "        -2.35425040e-01,  1.59842694e+00,  1.69224720e-02,\n",
              "         3.00717711e-01,  3.71608287e-01, -2.87224762e-02,\n",
              "        -5.71114957e-01,  4.46362138e-01,  9.54383433e-01,\n",
              "         7.58415043e-01, -1.53577459e+00,  1.27843142e-01,\n",
              "         6.01193964e-01,  1.07510459e+00,  9.09623384e-01,\n",
              "        -1.24726629e+00,  2.01488987e-01, -7.84373879e-01,\n",
              "         4.41066355e-01,  3.96685302e-01,  1.49909379e-02,\n",
              "         5.89765199e-02, -7.37323761e-01,  1.14065118e-01,\n",
              "         8.90845060e-01, -4.01596427e-01, -1.60324201e-01,\n",
              "        -3.84363681e-01,  9.23265144e-03,  3.77555490e-02,\n",
              "         3.52023631e-01,  1.72022477e-01, -2.97941655e-01,\n",
              "         7.46763408e-01,  4.84972566e-01, -4.84830499e-01,\n",
              "         1.79286618e-02, -9.27145220e-03, -1.50907886e+00,\n",
              "         3.89875859e-01, -2.45233104e-01,  5.26659429e-01,\n",
              "         1.13752031e+00,  1.01673761e-02, -1.64934024e-01,\n",
              "         1.06791884e-01,  2.14112505e-01, -6.87994510e-02,\n",
              "         7.88899362e-01,  9.94661376e-02,  3.76375198e-01,\n",
              "         1.44531444e-01, -4.07111555e-01,  1.01259208e+00,\n",
              "        -1.10016413e-01,  5.28223991e-01, -5.75882912e-01,\n",
              "         1.24252990e-01,  2.33716577e-01, -4.47918206e-01,\n",
              "         1.30959392e-01, -3.02782416e-01, -8.08840513e-01,\n",
              "         1.18669890e-01, -8.58443454e-02, -3.37639488e-02,\n",
              "        -5.18362582e-01,  1.15621500e-01,  7.06159532e-01,\n",
              "         6.44197702e-01, -2.44319677e-01,  1.27514780e-01,\n",
              "        -5.60220957e-01, -1.85427770e-01, -5.85331768e-02,\n",
              "         7.52573013e-01,  2.09051654e-01, -9.58606780e-01,\n",
              "         8.20023298e-01,  1.25102848e-01, -3.70236874e-01,\n",
              "        -4.44223106e-01,  5.59698045e-01,  3.22482228e-01,\n",
              "        -3.32323223e-01,  5.20358622e-01,  2.97807276e-01,\n",
              "        -3.28742623e-01, -5.30316234e-01, -1.04942036e+00,\n",
              "        -8.11686069e-02, -1.09992778e+00,  5.54902494e-01,\n",
              "        -3.96102250e-01,  4.04036611e-01, -1.64373830e-01,\n",
              "         3.68957430e-01,  3.57985675e-01, -4.24284905e-01,\n",
              "         1.80178341e-02,  6.98371083e-02,  1.41311422e-01,\n",
              "        -3.56249303e-01, -4.16072868e-02,  9.36817899e-02,\n",
              "        -2.00981915e-01,  3.55805069e-01, -5.09063900e-01,\n",
              "         1.81603774e-01, -5.90030253e-01, -6.08813047e-01,\n",
              "         2.89099008e-01, -6.59961477e-02, -1.68429005e+00,\n",
              "         9.98261809e-01, -1.00645101e+00,  5.36423802e-01,\n",
              "         1.15599446e-01, -5.64478159e-01, -3.61879058e-02,\n",
              "        -1.16119482e-01,  6.79036140e-01, -8.58873129e-02,\n",
              "        -4.20509517e-01, -1.80989262e-02, -4.49676141e-02,\n",
              "        -6.50649607e-01,  4.34434623e-01, -4.63088542e-01,\n",
              "        -5.26727915e-01, -8.47681224e-01, -2.21989885e-01,\n",
              "        -7.21030295e-01, -6.59337759e-01, -1.68287419e-02,\n",
              "         3.13339502e-01,  5.97900212e-01, -6.74942493e-01,\n",
              "         3.97764951e-01, -9.58416879e-01,  3.29703577e-02,\n",
              "         7.00784683e-01,  1.66915610e-01, -8.76448035e-01,\n",
              "        -4.25080866e-01,  5.77614188e-01, -6.52498960e-01,\n",
              "         8.84661615e-01, -2.74805844e-01,  8.94844234e-01,\n",
              "        -1.26461399e+00,  4.54881310e-01,  2.97799379e-01,\n",
              "         5.79273641e-01, -3.21144074e-01, -1.72685862e-01,\n",
              "        -6.93423033e-01, -6.82376087e-01,  9.28046703e-02,\n",
              "        -3.79356265e-01,  1.68088114e+00, -8.54841918e-02,\n",
              "         8.40709507e-01,  5.77685773e-01,  9.62521195e-01,\n",
              "         1.25177348e+00, -8.82516086e-01, -7.64471948e-01,\n",
              "        -2.31545488e-03, -6.02260709e-01, -2.92112418e-02,\n",
              "         1.09363556e+00, -4.44347829e-01, -6.30432189e-01,\n",
              "         4.86336887e-01, -6.24370396e-01,  5.12995541e-01,\n",
              "        -1.10532358e-01, -8.14477131e-02,  2.33484745e-01,\n",
              "         3.63514014e-02, -1.09574223e+00, -4.27744865e-01,\n",
              "         1.74106985e-01, -1.71097493e+00,  5.84472477e-01,\n",
              "         2.24544868e-01,  6.86572134e-01,  2.72325963e-01,\n",
              "         4.57272738e-01, -6.33691609e-01,  6.03825808e-01,\n",
              "        -2.41477966e-01, -8.79004896e-01, -2.60001600e-01,\n",
              "         4.67896372e-01, -5.64983785e-01, -5.29255152e-01,\n",
              "         1.13142824e+00, -1.13371924e-01, -1.27397135e-01,\n",
              "        -4.37413901e-01, -2.45544657e-01,  9.82783377e-01,\n",
              "        -1.89655483e+00,  2.69882623e-02, -6.64068401e-01,\n",
              "         7.10006177e-01,  5.73593318e-01, -5.25604010e-01,\n",
              "        -3.04025054e-01, -6.93656355e-02, -8.44286561e-01,\n",
              "         5.48292816e-01, -2.62421340e-01, -3.12946677e-01,\n",
              "         9.39851999e-01, -7.34016240e-01, -3.02644223e-01,\n",
              "        -4.78995234e-01, -8.69005382e-01, -3.00604284e-01,\n",
              "        -2.32389942e-01,  6.47536993e-01, -1.17612028e+00,\n",
              "         8.10435891e-01, -8.16281378e-01,  1.42744243e-01,\n",
              "        -5.88279590e-02,  6.92489982e-01,  3.45659345e-01,\n",
              "        -3.16137254e-01, -6.67715847e-01,  1.58921257e-01,\n",
              "        -9.33203459e-01, -5.53429961e-01,  5.85875750e-01,\n",
              "        -4.28359807e-01, -1.83210182e+00, -2.07037583e-01,\n",
              "         1.62795961e-01, -4.11725491e-01, -1.17804639e-01,\n",
              "         1.87277555e-01,  2.91879177e-01, -1.30704105e-01,\n",
              "         2.52238393e-01, -1.46407139e+00,  5.30797094e-02,\n",
              "         7.26745844e-01,  2.50849605e-01, -5.03705740e-01,\n",
              "        -7.60816395e-01, -1.11849809e+00,  5.97225904e-01,\n",
              "         5.02621055e-01,  8.04925025e-01,  1.26729250e+00,\n",
              "        -8.56191993e-01, -6.01067841e-01,  4.54914570e-02,\n",
              "         6.48504794e-02,  7.34427199e-02, -7.60599494e-01,\n",
              "        -7.01589346e-01, -1.08157468e+00,  9.28507090e-01,\n",
              "        -2.38040298e-01, -7.73683786e-01, -2.65505631e-02,\n",
              "         2.32384488e-01, -4.82453853e-01, -3.84556085e-01,\n",
              "         4.48268205e-01, -8.96857500e-01,  4.12393175e-02,\n",
              "        -4.10218537e-01, -1.16883206e+00, -5.62511206e-01,\n",
              "         1.82918176e-01, -4.89737809e-01,  3.06888968e-01,\n",
              "         7.83469006e-02,  8.79520833e-01, -5.24221182e-01,\n",
              "        -9.07930434e-01,  2.50129580e-01, -2.29051098e-01,\n",
              "        -2.27717925e-02,  5.31864583e-01,  1.05087483e+00,\n",
              "         4.95327562e-01, -3.45396399e-01,  1.32276702e+00,\n",
              "        -1.91186577e-01, -3.06947052e-01,  1.89068690e-02,\n",
              "        -5.23430407e-01,  4.45910156e-01, -5.18588662e-01,\n",
              "        -5.83751142e-01, -7.29349315e-01,  2.48630181e-01,\n",
              "        -8.79564136e-02,  4.81191993e-01,  6.32760227e-01,\n",
              "         5.60423195e-01,  2.48279616e-01,  3.41740012e-01,\n",
              "        -3.50328863e-01,  4.86899108e-01,  4.36252087e-01,\n",
              "         9.77040529e-01,  6.31501317e-01, -2.92793304e-01,\n",
              "        -6.94967985e-01, -7.75416732e-01, -8.39122415e-01,\n",
              "         9.42977905e-01,  4.10286248e-01,  8.45315695e-01,\n",
              "        -1.89189613e-01,  5.21023273e-02,  5.03015459e-01,\n",
              "         2.08307996e-01,  8.09190869e-02,  8.61009777e-01,\n",
              "         5.99536479e-01,  6.99961245e-01,  3.62495989e-01,\n",
              "        -1.12025881e+00, -7.46829450e-01,  9.22005415e-01,\n",
              "         7.55650699e-01, -8.28585804e-01,  4.17246372e-01,\n",
              "         1.93338543e-01, -2.57261377e-02, -2.37277791e-01,\n",
              "        -6.42123580e-01,  8.77909482e-01,  1.21092236e+00,\n",
              "        -3.16678584e-01,  1.44594216e+00,  1.04098213e+00,\n",
              "        -3.61995846e-02, -1.19087480e-01,  1.09102666e+00,\n",
              "        -9.40220892e-01,  2.17235580e-01, -1.36848196e-01,\n",
              "         2.44376138e-01, -2.30502933e-01, -2.11553872e-01,\n",
              "        -6.68429613e-01,  6.26251042e-01, -5.49252093e-01,\n",
              "        -6.91772878e-01,  2.68963933e-01, -1.55551720e+00,\n",
              "         1.45430648e+00, -5.66522658e-01,  1.05812442e+00,\n",
              "        -9.79574382e-01,  9.58813429e-01,  2.71628559e-01,\n",
              "        -1.15543449e+00, -3.31935257e-01, -6.05759621e-01,\n",
              "        -8.42095792e-01,  9.99357939e-01,  5.74070849e-02,\n",
              "         7.90369272e-01,  6.92635104e-02, -2.03899816e-01,\n",
              "         4.90947723e-01,  8.50907683e-01, -6.05856478e-01,\n",
              "        -2.87302613e-01, -1.75848395e-01,  1.86990932e-01,\n",
              "        -5.76596975e-01,  3.87646407e-01,  3.88905436e-01,\n",
              "        -8.70678842e-01, -6.56671762e-01, -2.59095460e-01,\n",
              "         7.67421365e-01, -2.01798424e-01, -9.96599376e-01,\n",
              "         1.09128639e-01, -7.16859847e-02, -8.14478815e-01,\n",
              "         2.29434535e-01,  5.17299712e-01,  3.18718374e-01,\n",
              "        -6.99799731e-02,  1.12969495e-01, -1.99167669e+00,\n",
              "         3.92420501e-01,  2.48532638e-01,  1.34835863e+00,\n",
              "         5.02675474e-01,  1.38953537e-01,  1.96681350e-01,\n",
              "        -7.13732958e-01, -6.75301015e-01,  2.75143623e-01,\n",
              "         6.81172907e-01,  7.79426634e-01,  9.24456865e-02,\n",
              "        -2.17368230e-01,  5.52670479e-01,  1.34029239e-01,\n",
              "        -7.99353659e-01, -3.20502758e-01, -9.40278649e-01,\n",
              "        -7.03332722e-01,  2.71726418e-02,  6.40004799e-02,\n",
              "        -1.36207134e-01, -2.17879072e-01,  1.08518112e+00,\n",
              "         3.17097545e-01, -1.04491517e-01, -1.01163971e+00,\n",
              "         6.99919701e-01, -4.54504520e-01,  1.22885501e+00,\n",
              "        -5.71385443e-01,  6.23137653e-01,  6.76203787e-01,\n",
              "         3.04820567e-01, -8.08403075e-01, -3.09738964e-01,\n",
              "        -6.46504939e-01, -6.13111317e-01, -5.58611929e-01,\n",
              "        -7.26613998e-01,  3.09282064e-01, -5.91268778e-01,\n",
              "        -4.79015350e-01, -1.52300107e+00,  5.52941263e-01,\n",
              "        -3.98628145e-01, -4.49727893e-01,  9.30172324e-01,\n",
              "        -4.02179837e-01, -6.08664691e-01,  8.59527349e-01,\n",
              "        -7.81750917e-01,  4.66950327e-01, -1.10911286e+00,\n",
              "        -1.74786016e-01, -6.12300336e-01,  8.26076329e-01,\n",
              "         4.98452783e-01,  9.57023352e-02,  4.90569800e-01,\n",
              "        -1.36118114e-01,  2.77731061e-01,  1.20009232e+00,\n",
              "         4.94120568e-01,  7.48299181e-01,  1.43992960e+00,\n",
              "        -4.58705544e-01, -3.51628989e-01,  5.59488654e-01,\n",
              "         3.17880243e-01, -2.80539036e-01,  6.75032377e-01,\n",
              "         3.06187004e-01,  5.69790423e-01,  2.50888824e-01,\n",
              "         6.95269644e-01,  5.36827929e-02,  2.16583163e-01,\n",
              "        -6.71549797e-01,  3.74018699e-01, -1.70940295e-01,\n",
              "        -3.36607099e-01,  4.69746560e-01, -3.06709737e-01,\n",
              "        -1.43144324e-01, -4.00291793e-02,  1.10428594e-02,\n",
              "         7.57170022e-02, -1.13989520e+00, -1.28212512e-01,\n",
              "        -3.43113780e-01, -7.14462221e-01, -1.16552480e-01,\n",
              "         8.75376761e-01, -7.07733214e-01,  9.99325156e-01,\n",
              "         1.02397472e-01, -3.79355460e-01, -4.85162348e-01,\n",
              "        -1.39827535e-01, -4.08849806e-01, -1.09422410e+00,\n",
              "         1.37106001e-01,  3.81554604e-01, -1.74353406e-01,\n",
              "        -3.07923436e-01, -1.99660718e-01, -2.07933441e-01,\n",
              "        -8.18807602e-01,  7.01623976e-01, -2.92384475e-01,\n",
              "         1.46915197e-01, -5.75695574e-01,  3.28292280e-01,\n",
              "        -3.55721116e-01,  8.39414060e-01, -9.68228877e-02,\n",
              "         1.12122452e+00, -8.47641751e-02, -2.31230989e-01,\n",
              "        -2.93318957e-01,  4.59934250e-02, -7.09374249e-01,\n",
              "        -4.83726770e-01,  3.49482238e-01, -8.20038199e-01,\n",
              "         1.05202723e+00, -5.69164515e-01, -5.00317156e-01,\n",
              "        -1.64686173e-01, -1.64956182e-01, -5.51423013e-01,\n",
              "        -5.31696856e-01,  7.57997334e-01, -1.21225512e+00,\n",
              "         3.67622674e-01, -1.08927218e-02, -9.82540131e-01,\n",
              "        -7.66982794e-01, -3.88722867e-01,  2.94716865e-01,\n",
              "         2.95782596e-01, -1.16740996e-02,  4.95583892e-01,\n",
              "        -6.67119443e-01,  7.93634057e-02, -5.73622882e-01,\n",
              "         1.06152391e+00, -2.56812125e-01,  6.96254253e-01,\n",
              "        -7.26460993e-01,  1.10421836e+00, -4.50269431e-02,\n",
              "         6.52842283e-01,  5.64057052e-01,  7.08565474e-01,\n",
              "         4.41708177e-01, -4.33553487e-01,  8.01517725e-01,\n",
              "         8.39691520e-01,  8.52706015e-01,  3.30991089e-01,\n",
              "        -5.58955610e-01, -7.58566618e-01, -9.80523884e-01,\n",
              "         1.99090779e-01, -4.43815798e-01,  5.76718450e-01,\n",
              "        -6.93176866e-01,  2.62153238e-01, -4.12408471e-01,\n",
              "        -2.04469502e-01,  8.07640404e-02, -2.94012338e-01,\n",
              "         9.79746580e-02, -5.47208548e-01, -1.90766424e-01,\n",
              "        -2.00299740e-01, -6.59806311e-01,  5.72739542e-03,\n",
              "         6.39093995e-01, -5.88254869e-01,  4.68620688e-01,\n",
              "         4.51537967e-01, -2.73048759e-01,  5.22140086e-01,\n",
              "         6.40407324e-01,  4.77006823e-01,  9.45606411e-01,\n",
              "        -3.63622129e-01, -4.04055836e-03,  1.65513948e-01,\n",
              "         7.41558433e-01, -6.39780462e-01,  3.01307887e-01,\n",
              "        -1.22192325e-02, -1.07494903e+00,  5.21402657e-01,\n",
              "        -7.86995709e-01,  6.27264023e-01, -1.21947980e+00,\n",
              "        -4.91788089e-01, -1.16956389e+00,  4.52964604e-01,\n",
              "        -3.53770643e-01, -2.16035232e-01,  1.14139073e-01,\n",
              "         1.63088155e+00, -2.49958336e-01,  3.17090712e-02,\n",
              "         2.82585055e-01, -5.59684753e-01,  1.01633441e+00,\n",
              "         6.65485024e-01,  6.72981665e-02, -7.63074696e-01,\n",
              "        -3.81068408e-01, -1.74269930e-01,  3.60383183e-01,\n",
              "        -1.50614023e-01, -1.22108072e-01, -8.88202846e-01,\n",
              "         2.71987319e-02, -1.08321679e+00,  2.74795294e-02,\n",
              "        -3.78048450e-01,  2.06151772e-02, -2.64000624e-01,\n",
              "         1.66644320e-01, -1.42862964e+00,  1.50593817e-01,\n",
              "         4.98551577e-01,  4.39641029e-01, -5.06915033e-01,\n",
              "         1.31827044e+00, -1.01284218e+00, -2.31091455e-01,\n",
              "        -1.23662591e+00,  6.89611435e-01, -3.39005440e-01,\n",
              "        -6.21237934e-01, -3.77423555e-01, -1.50692299e-01,\n",
              "        -2.61351794e-01, -7.87276477e-02,  6.01036996e-02,\n",
              "        -2.84600914e-01,  3.17542613e-01,  3.70441437e-01,\n",
              "        -2.37824619e-01,  7.70155191e-01, -2.05909878e-01,\n",
              "        -6.86243176e-01,  7.69845366e-01, -2.34942213e-01,\n",
              "        -3.93437833e-01, -2.59897977e-01,  1.12776196e+00,\n",
              "         1.51509538e-01,  7.25522041e-01, -3.17215353e-01,\n",
              "        -2.80835003e-01,  3.03949386e-01, -5.57058342e-02,\n",
              "         1.67140365e-01,  4.10793275e-01, -1.35069370e+00,\n",
              "         1.53245673e-01,  1.18025055e-03,  1.93069950e-01,\n",
              "         4.63226765e-01, -5.59307635e-01,  8.38815942e-02,\n",
              "         2.23772824e-01,  1.17928553e+00, -3.68646592e-01,\n",
              "        -1.78952113e-01,  4.38418746e-01, -6.48898212e-03,\n",
              "        -2.01428801e-01, -1.91856399e-02,  4.00998116e-01,\n",
              "         6.51127100e-01, -1.22304246e-01, -1.59803200e+00,\n",
              "        -5.85802913e-01,  1.08908296e-01,  3.53117734e-02,\n",
              "        -1.09877455e+00,  1.60002887e-01,  1.19713426e-01]], dtype=float32)"
            ]
          },
          "metadata": {},
          "execution_count": 60
        }
      ],
      "source": [
        "sentence='U r bad charactered hateful bigot'\n",
        "review=re.sub('[^a-zA-z]', ' ',sentence)\n",
        "review=review.lower()\n",
        "review=review.split()\n",
        "review=[lemmatizer.lemmatize(word) for word in review if not word in set(stopwords.words('english'))]\n",
        "review=' '.join(review)\n",
        "review= [review]\n",
        "s1=sbert_model.encode(review)\n",
        "s1"
      ]
    },
    {
      "cell_type": "code",
      "execution_count": 61,
      "metadata": {
        "colab": {
          "base_uri": "https://localhost:8080/"
        },
        "id": "JH40_SmcVo-H",
        "outputId": "33fbed97-a1c0-428f-aaee-03abbdf79f68"
      },
      "outputs": [
        {
          "output_type": "stream",
          "name": "stdout",
          "text": [
            "1/1 [==============================] - 0s 18ms/step\n"
          ]
        },
        {
          "output_type": "execute_result",
          "data": {
            "text/plain": [
              "array([[0.9214166]], dtype=float32)"
            ]
          },
          "metadata": {},
          "execution_count": 61
        }
      ],
      "source": [
        "classifier.predict(s1)\n"
      ]
    }
  ],
  "metadata": {
    "accelerator": "GPU",
    "colab": {
      "provenance": []
    },
    "gpuClass": "standard",
    "kernelspec": {
      "display_name": "Python 3 (ipykernel)",
      "language": "python",
      "name": "python3"
    },
    "language_info": {
      "codemirror_mode": {
        "name": "ipython",
        "version": 3
      },
      "file_extension": ".py",
      "mimetype": "text/x-python",
      "name": "python",
      "nbconvert_exporter": "python",
      "pygments_lexer": "ipython3",
      "version": "3.10.4"
    }
  },
  "nbformat": 4,
  "nbformat_minor": 0
}